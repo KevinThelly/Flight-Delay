{
 "cells": [
  {
   "cell_type": "code",
   "execution_count": 1,
   "metadata": {},
   "outputs": [],
   "source": [
    "import pandas as pd\n",
    "import matplotlib.pyplot as plt\n",
    "from sklearn.model_selection import train_test_split"
   ]
  },
  {
   "cell_type": "code",
   "execution_count": 2,
   "metadata": {},
   "outputs": [],
   "source": [
    "df =pd.read_csv('module2resultextree.csv')"
   ]
  },
  {
   "cell_type": "code",
   "execution_count": null,
   "metadata": {},
   "outputs": [],
   "source": []
  },
  {
   "cell_type": "code",
   "execution_count": 3,
   "metadata": {},
   "outputs": [
    {
     "name": "stdout",
     "output_type": "stream",
     "text": [
      "<class 'pandas.core.frame.DataFrame'>\n",
      "RangeIndex: 417850 entries, 0 to 417849\n",
      "Data columns (total 36 columns):\n",
      "Unnamed: 0         417850 non-null int64\n",
      "Quarter            417850 non-null int64\n",
      "Year               417850 non-null int64\n",
      "Month              417850 non-null int64\n",
      "DayofMonth         417850 non-null int64\n",
      "CRSDepTime         417850 non-null int64\n",
      "DepDelayMinutes    417850 non-null float64\n",
      "OriginAirportID    417850 non-null int64\n",
      "DestAirportID      417850 non-null int64\n",
      "CRSArrTime         417850 non-null int64\n",
      "ArrDelayMinutes    417850 non-null float64\n",
      "windspeedKmph_x    417850 non-null int64\n",
      "weatherCode_x      417850 non-null int64\n",
      "precipMM_x         417850 non-null float64\n",
      "WindGustKmph_x     417850 non-null int64\n",
      "pressure_x         417850 non-null int64\n",
      "cloudcover_x       417850 non-null int64\n",
      "winddirDegree_x    417850 non-null int64\n",
      "humidity_x         417850 non-null int64\n",
      "cloudcover.1_x     417850 non-null int64\n",
      "DewPointF_x        417850 non-null int64\n",
      "tempF_x            417850 non-null int64\n",
      "WindChillF_x       417850 non-null int64\n",
      "windspeedKmph_y    417850 non-null int64\n",
      "weatherCode_y      417850 non-null int64\n",
      "precipMM_y         417850 non-null float64\n",
      "WindGustKmph_y     417850 non-null int64\n",
      "pressure_y         417850 non-null int64\n",
      "cloudcover_y       417850 non-null int64\n",
      "winddirDegree_y    417850 non-null int64\n",
      "humidity_y         417850 non-null int64\n",
      "cloudcover.1_y     417850 non-null int64\n",
      "DewPointF_y        417850 non-null int64\n",
      "tempF_y            417850 non-null int64\n",
      "WindChillF_y       417850 non-null int64\n",
      "NewArr15           417850 non-null float64\n",
      "dtypes: float64(5), int64(31)\n",
      "memory usage: 114.8 MB\n"
     ]
    }
   ],
   "source": [
    "df.info()"
   ]
  },
  {
   "cell_type": "code",
   "execution_count": 4,
   "metadata": {},
   "outputs": [],
   "source": [
    "y=df['ArrDelayMinutes']\n",
    "X=df.drop(['ArrDelayMinutes','Unnamed: 0'],axis=1)"
   ]
  },
  {
   "cell_type": "code",
   "execution_count": 5,
   "metadata": {},
   "outputs": [],
   "source": [
    "X_train, X_test, y_train, y_test = train_test_split(X, y, test_size=0.2)"
   ]
  },
  {
   "cell_type": "code",
   "execution_count": 6,
   "metadata": {},
   "outputs": [],
   "source": [
    "#LINEAR REGRESSION\n",
    "\n",
    "from sklearn import datasets, linear_model, metrics \n",
    "reg = linear_model.LinearRegression()\n",
    "reg.fit(X_train,y_train)\n",
    "pred_lr=reg.predict(X_test)\n"
   ]
  },
  {
   "cell_type": "code",
   "execution_count": 7,
   "metadata": {},
   "outputs": [
    {
     "name": "stdout",
     "output_type": "stream",
     "text": [
      "r2 :  0.9458877397780099\n",
      "MAE : 11.800973019947415\n",
      "RMSE : 16.835091118645643\n"
     ]
    }
   ],
   "source": [
    "#LINEAR REGRESSION\n",
    "\n",
    "from sklearn.metrics import r2_score,mean_absolute_error,mean_squared_error\n",
    "import math\n",
    "\n",
    "print(\"r2 : \",r2_score(y_test,pred_lr))\n",
    "print(\"MAE :\",mean_absolute_error(y_test,pred_lr))\n",
    "print(\"RMSE :\",math.sqrt(mean_squared_error(y_test,pred_lr)))"
   ]
  },
  {
   "cell_type": "code",
   "execution_count": 30,
   "metadata": {},
   "outputs": [
    {
     "data": {
      "text/plain": [
       "<matplotlib.collections.LineCollection at 0x1e2d374def0>"
      ]
     },
     "execution_count": 30,
     "metadata": {},
     "output_type": "execute_result"
    },
    {
     "data": {
      "image/png": "[encoded data removed]",
      "text/plain": [
       "<Figure size 432x288 with 1 Axes>"
      ]
     },
     "metadata": {
      "needs_background": "light"
     },
     "output_type": "display_data"
    }
   ],
   "source": [
    "# plt.scatter(reg.predict(X_train), reg.predict(X_train) - y_train, s = 10,alpha=0.5,c=\"b\") \n",
    "plt.scatter(reg.predict(X_test), reg.predict(X_test) - y_test,  s = 10, c=\"g\") \n",
    "plt.hlines(y = 0, xmin = 0, xmax = 50, linewidth = 2) "
   ]
  },
  {
   "cell_type": "code",
   "execution_count": 40,
   "metadata": {},
   "outputs": [
    {
     "name": "stderr",
     "output_type": "stream",
     "text": [
      "c:\\users\\kevin thelly\\appdata\\local\\programs\\python\\python37\\lib\\site-packages\\sklearn\\ensemble\\forest.py:246: FutureWarning: The default value of n_estimators will change from 10 in version 0.20 to 100 in 0.22.\n",
      "  \"10 in version 0.20 to 100 in 0.22.\", FutureWarning)\n"
     ]
    },
    {
     "data": {
      "text/plain": [
       "ExtraTreesRegressor(bootstrap=False, criterion='mse', max_depth=None,\n",
       "          max_features='auto', max_leaf_nodes=None,\n",
       "          min_impurity_decrease=0.0, min_impurity_split=None,\n",
       "          min_samples_leaf=1, min_samples_split=2,\n",
       "          min_weight_fraction_leaf=0.0, n_estimators=10, n_jobs=None,\n",
       "          oob_score=False, random_state=None, verbose=0, warm_start=False)"
      ]
     },
     "execution_count": 40,
     "metadata": {},
     "output_type": "execute_result"
    }
   ],
   "source": [
    "from sklearn.ensemble import ExtraTreesRegressor\n",
    "\n",
    "etr=ExtraTreesRegressor()\n",
    "etr.fit(X_train,y_train)\n"
   ]
  },
  {
   "cell_type": "code",
   "execution_count": 41,
   "metadata": {},
   "outputs": [
    {
     "name": "stdout",
     "output_type": "stream",
     "text": [
      "r2 :  0.9449376533759882\n",
      "MAE : 12.429365801124808\n",
      "RMSE : 17.33315448514457\n"
     ]
    }
   ],
   "source": [
    "pred_etr=etr.predict(X_test)\n",
    "print(\"r2 : \",r2_score(y_test,pred_etr))\n",
    "print(\"MAE :\",mean_absolute_error(y_test,pred_etr))\n",
    "print(\"RMSE :\",math.sqrt(mean_squared_error(y_test,pred_etr)))"
   ]
  },
  {
   "cell_type": "code",
   "execution_count": 16,
   "metadata": {},
   "outputs": [],
   "source": [
    "#FEATURE IMPORTANCE\n",
    "import numpy as np\n",
    "importances=etr.feature_importances_\n",
    "std= np.std([tree.feature_importances_ for tree in etr.estimators_],axis=0)\n",
    "indices=np.argsort(importances)[::-1]"
   ]
  },
  {
   "cell_type": "code",
   "execution_count": 33,
   "metadata": {},
   "outputs": [
    {
     "name": "stdout",
     "output_type": "stream",
     "text": [
      "Feature Ranking\n",
      "1. feature 5 (0.942133)\n",
      "2. feature 12 (0.003018)\n",
      "3. feature 10 (0.002483)\n",
      "4. feature 8 (0.002382)\n",
      "5. feature 4 (0.002149)\n",
      "6. feature 9 (0.002049)\n",
      "7. feature 7 (0.002040)\n",
      "8. feature 25 (0.002008)\n",
      "9. feature 24 (0.001989)\n",
      "10. feature 27 (0.001969)\n",
      "11. feature 6 (0.001926)\n",
      "12. feature 3 (0.001920)\n",
      "13. feature 21 (0.001888)\n",
      "14. feature 15 (0.001876)\n",
      "15. feature 18 (0.001875)\n",
      "16. feature 13 (0.001873)\n",
      "17. feature 16 (0.001870)\n",
      "18. feature 11 (0.001827)\n",
      "19. feature 30 (0.001800)\n",
      "20. feature 28 (0.001770)\n",
      "21. feature 31 (0.001744)\n",
      "22. feature 32 (0.001703)\n",
      "23. feature 22 (0.001695)\n",
      "24. feature 23 (0.001688)\n",
      "25. feature 19 (0.001667)\n",
      "26. feature 20 (0.001652)\n",
      "27. feature 14 (0.001431)\n",
      "28. feature 17 (0.001389)\n",
      "29. feature 29 (0.001354)\n",
      "30. feature 2 (0.001350)\n",
      "31. feature 26 (0.001336)\n",
      "32. feature 1 (0.001095)\n",
      "33. feature 0 (0.001051)\n",
      "34. feature 33 (0.000000)\n"
     ]
    }
   ],
   "source": [
    "#PRINTING FEATURE IMPORTANCE\n",
    "print(\"Feature Ranking\")\n",
    "\n",
    "for f in range(X.shape[1]):\n",
    "    print(\"%d. feature %d (%f)\" % (f + 1,indices[f],importances[indices[f]]))"
   ]
  },
  {
   "cell_type": "code",
   "execution_count": 48,
   "metadata": {},
   "outputs": [
    {
     "name": "stderr",
     "output_type": "stream",
     "text": [
      "c:\\users\\kevin thelly\\appdata\\local\\programs\\python\\python37\\lib\\site-packages\\sklearn\\ensemble\\forest.py:246: FutureWarning: The default value of n_estimators will change from 10 in version 0.20 to 100 in 0.22.\n",
      "  \"10 in version 0.20 to 100 in 0.22.\", FutureWarning)\n"
     ]
    },
    {
     "name": "stdout",
     "output_type": "stream",
     "text": [
      "r2 :  0.9452492517566448\n",
      "MAE : 12.394300187467591\n",
      "RMSE : 17.284040653712513\n"
     ]
    }
   ],
   "source": [
    "from sklearn.ensemble import RandomForestRegressor\n",
    "regr=RandomForestRegressor()\n",
    "regr.fit(X_train,y_train)\n",
    "pred_regr=regr.predict(X_test)\n",
    "print(\"r2 : \",r2_score(y_test,pred_regr))\n",
    "print(\"MAE :\",mean_absolute_error(y_test,pred_regr))\n",
    "print(\"RMSE :\",math.sqrt(mean_squared_error(y_test,pred_regr)))"
   ]
  },
  {
   "cell_type": "code",
   "execution_count": 46,
   "metadata": {},
   "outputs": [
    {
     "name": "stderr",
     "output_type": "stream",
     "text": [
      "c:\\users\\kevin thelly\\appdata\\local\\programs\\python\\python37\\lib\\site-packages\\xgboost\\core.py:587: FutureWarning: Series.base is deprecated and will be removed in a future version\n",
      "  if getattr(data, 'base', None) is not None and \\\n"
     ]
    },
    {
     "data": {
      "text/plain": [
       "XGBRegressor(base_score=0.5, booster='gbtree', colsample_bylevel=1,\n",
       "       colsample_bytree=1, gamma=0, importance_type='gain',\n",
       "       learning_rate=0.1, max_delta_step=0, max_depth=3,\n",
       "       min_child_weight=1, missing=None, n_estimators=100, n_jobs=1,\n",
       "       nthread=None, objective='reg:linear', random_state=0, reg_alpha=0,\n",
       "       reg_lambda=1, scale_pos_weight=1, seed=None, silent=True,\n",
       "       subsample=1)"
      ]
     },
     "execution_count": 46,
     "metadata": {},
     "output_type": "execute_result"
    }
   ],
   "source": [
    "import xgboost as xgb\n",
    "model=xgb.XGBRegressor()\n",
    "model.fit(X_train,y_train)"
   ]
  },
  {
   "cell_type": "code",
   "execution_count": 47,
   "metadata": {},
   "outputs": [
    {
     "name": "stdout",
     "output_type": "stream",
     "text": [
      "r2 :  0.9497081127912683\n",
      "MAE : 11.68410677320723\n",
      "RMSE : 16.565296596363357\n"
     ]
    }
   ],
   "source": [
    "pred_xgb=model.predict(X_test)\n",
    "print(\"r2 : \",r2_score(y_test,pred_xgb))\n",
    "print(\"MAE :\",mean_absolute_error(y_test,pred_xgb))\n",
    "print(\"RMSE :\",math.sqrt(mean_squared_error(y_test,pred_xgb)))"
   ]
  }
 ],
 "metadata": {
  "kernelspec": {
   "display_name": "Python 3",
   "language": "python",
   "name": "python3"
  },
  "language_info": {
   "codemirror_mode": {
    "name": "ipython",
    "version": 3
   },
   "file_extension": ".py",
   "mimetype": "text/x-python",
   "name": "python",
   "nbconvert_exporter": "python",
   "pygments_lexer": "ipython3",
   "version": "3.7.2"
  }
 },
 "nbformat": 4,
 "nbformat_minor": 2
}
